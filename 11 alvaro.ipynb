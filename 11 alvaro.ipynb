{
  "nbformat": 4,
  "nbformat_minor": 0,
  "metadata": {
    "colab": {
      "name": "Copy of scenes_nn_4 layers.ipynb",
      "provenance": [],
      "collapsed_sections": [],
      "include_colab_link": true
    },
    "kernelspec": {
      "display_name": "Python 3",
      "name": "python3"
    },
    "language_info": {
      "codemirror_mode": {
        "name": "ipython",
        "version": 3
      },
      "file_extension": ".py",
      "mimetype": "text/x-python",
      "name": "python",
      "nbconvert_exporter": "python",
      "pygments_lexer": "ipython3",
      "version": "3.7.4"
    }
  },
  "cells": [
    {
      "cell_type": "markdown",
      "metadata": {
        "id": "view-in-github",
        "colab_type": "text"
      },
      "source": [
        "<a href=\"https://colab.research.google.com/github/AlvaroSeptra/alvaro-septra/blob/main/11%20alvaro.ipynb\" target=\"_parent\"><img src=\"https://colab.research.google.com/assets/colab-badge.svg\" alt=\"Open In Colab\"/></a>"
      ]
    },
    {
      "cell_type": "code",
      "metadata": {
        "colab": {
          "base_uri": "https://localhost:8080/"
        },
        "id": "xyiyd0kMooXM",
        "outputId": "007b7bbf-4aca-4307-ecc6-714da6ec0621"
      },
      "source": [
        "from google.colab import drive\n",
        "drive.mount('/content/drive')"
      ],
      "execution_count": 112,
      "outputs": [
        {
          "output_type": "stream",
          "text": [
            "Drive already mounted at /content/drive; to attempt to forcibly remount, call drive.mount(\"/content/drive\", force_remount=True).\n"
          ],
          "name": "stdout"
        }
      ]
    },
    {
      "cell_type": "code",
      "metadata": {
        "colab": {
          "base_uri": "https://localhost:8080/"
        },
        "id": "H215ikbNVVZS",
        "outputId": "abfc447e-29cf-43c8-e9da-8864e7d84020"
      },
      "source": [
        "cd /content/drive/MyDrive/Colab Notebooks "
      ],
      "execution_count": 113,
      "outputs": [
        {
          "output_type": "stream",
          "text": [
            "/content/drive/MyDrive/Colab Notebooks\n"
          ],
          "name": "stdout"
        }
      ]
    },
    {
      "cell_type": "code",
      "metadata": {
        "colab": {
          "base_uri": "https://localhost:8080/"
        },
        "id": "z7VB1d4wVdov",
        "outputId": "87ae0220-a28e-477f-8e85-576dd54c73da"
      },
      "source": [
        "ls"
      ],
      "execution_count": 114,
      "outputs": [
        {
          "output_type": "stream",
          "text": [
            " \u001b[0m\u001b[01;34m3scene\u001b[0m/                             \u001b[01;36mdatasetsc\u001b[0m@\n",
            " \u001b[01;34m4scene\u001b[0m/                             forest.jpg\n",
            " best_weight_scene_mobileNet.h5      \u001b[01;34mnnmodel_scene\u001b[0m/\n",
            "'Copy of scenes_nn_4 layers.ipynb'  'pertemuan 11.ipynb'\n",
            " \u001b[01;34mdataset\u001b[0m/\n"
          ],
          "name": "stdout"
        }
      ]
    },
    {
      "cell_type": "code",
      "metadata": {
        "id": "5IGm26ZzVGBs"
      },
      "source": [
        "# import the necessary packages\n",
        "from keras.models import Sequential\n",
        "from keras.layers.core import Activation\n",
        "from keras.layers.core import Flatten\n",
        "from keras.layers.core import Dense\n",
        "from keras.optimizers import Adam\n",
        "from sklearn.preprocessing import LabelBinarizer\n",
        "from sklearn.model_selection import train_test_split\n",
        "from sklearn.metrics import classification_report\n",
        "from PIL import Image\n",
        "from imutils import paths\n",
        "import numpy as np\n",
        "import os"
      ],
      "execution_count": 115,
      "outputs": []
    },
    {
      "cell_type": "code",
      "metadata": {
        "colab": {
          "base_uri": "https://localhost:8080/"
        },
        "id": "0-5PXYTsVGBw",
        "outputId": "54f50a86-09ae-418d-acd7-ef23937cac47"
      },
      "source": [
        "# grab all image paths in the input dataset directory, then initialize\n",
        "# our list of images and corresponding class labels\n",
        "print(\"[INFO] loading images...\")\n",
        "imagePaths = paths.list_images(\"4scene\")\n",
        "data = []\n",
        "labels = []"
      ],
      "execution_count": 116,
      "outputs": [
        {
          "output_type": "stream",
          "text": [
            "[INFO] loading images...\n"
          ],
          "name": "stdout"
        }
      ]
    },
    {
      "cell_type": "code",
      "metadata": {
        "id": "9Q-KXSsGVGB0"
      },
      "source": [
        "# loop over our input images\n",
        "for imagePath in imagePaths:\n",
        "\t# load the input image from disk, resize it to 64x64 pixels, scale\n",
        "\t# the pixel intensities to the range [0, 1], and then update our\n",
        "\t# images list\n",
        "\timage = Image.open(imagePath)\n",
        "  #preprocessing\n",
        "\timage = np.array(image.resize((64, 64))) / 255.0 #normalisasi\n",
        "\tdata.append(image)\n",
        "\n",
        "\t# extract the class label from the file path and update the\n",
        "\t# labels list\n",
        "\tlabel = imagePath.split(os.path.sep)[-2]\n",
        "\tlabels.append(label)"
      ],
      "execution_count": 117,
      "outputs": []
    },
    {
      "cell_type": "code",
      "metadata": {
        "colab": {
          "base_uri": "https://localhost:8080/"
        },
        "id": "Rzbolh88VGB2",
        "outputId": "ab153330-3d9b-432f-8bb4-9d73458f8550"
      },
      "source": [
        "print(labels)"
      ],
      "execution_count": 118,
      "outputs": [
        {
          "output_type": "stream",
          "text": [
            "['GMB_08', 'GMB_08', 'GMB_08', 'GMB_08', 'GMB_08', 'GMB_08', 'GMB_08', 'GMB_08', 'GMB_08', 'GMB_08', 'GMB_08', 'GMB_08', 'GMB_08', 'GMB_08', 'GMB_08', 'GMB_08', 'GMB_08', 'GMB_08', 'GMB_08', 'GMB_08', 'GMB_08', 'GMB_08', 'GMB_08', 'GMB_08', 'GMB_08', 'GMB_08', 'GMB_08', 'GMB_08', 'GMB_08', 'GMB_08', 'GMB_08', 'GMB_08', 'GMB_08', 'GMB_08', 'GMB_08', 'GMB_08', 'GMB_08', 'GMB_08', 'GMB_08', 'GMB_08', 'GMB_08', 'GMB_08', 'GMB_08', 'GMB_08', 'GMB_08', 'GMB_08', 'GMB_08', 'GMB_08', 'GMB_08', 'GMB_08', 'GMB_08', 'GMB_08', 'GMB_08', 'GMB_08', 'GMB_08', 'GMB_08', 'GMB_08', 'GMB_08', 'GMB_08', 'GMB_08', 'GMB_08', 'GMB_08', 'GMB_08', 'GMB_08', 'GMB_08', 'GMB_08', 'GMB_08', 'GMB_08', 'GMB_08', 'GMB_08', 'GMB_08', 'GMB_08', 'GMB_08', 'GMB_08', 'GMB_08', 'GMB_08', 'GMB_08', 'GMB_08', 'GMB_08', 'GMB_08', 'GMB_08', 'GMB_08', 'GMB_08', 'GMB_08', 'GMB_08', 'GMB_08', 'GMB_08', 'GMB_08', 'GMB_08', 'GMB_08', 'GMB_08', 'GMB_08', 'GMB_08', 'GMB_08', 'GMB_08', 'GMB_08', 'GMB_08', 'GMB_08', 'GMB_08', 'GMB_08', 'GMB_08', 'GMB_08', 'GMB_08', 'GMB_08', 'GMB_08', 'GMB_08', 'GMB_08', 'GMB_08', 'GMB_08', 'GMB_08', 'GMB_08', 'GMB_08', 'GMB_08', 'GMB_08', 'GMB_08', 'GMB_08', 'GMB_08', 'GMB_07', 'GMB_07', 'GMB_07', 'GMB_07', 'GMB_07', 'GMB_07', 'GMB_07', 'GMB_07', 'GMB_07', 'GMB_07', 'GMB_07', 'GMB_07', 'GMB_07', 'GMB_07', 'GMB_07', 'GMB_07', 'GMB_07', 'GMB_07', 'GMB_07', 'GMB_07', 'GMB_07', 'GMB_07', 'GMB_07', 'GMB_07', 'GMB_07', 'GMB_07', 'GMB_07', 'GMB_07', 'GMB_07', 'GMB_07', 'GMB_07', 'GMB_07', 'GMB_07', 'GMB_07', 'GMB_07', 'GMB_07', 'GMB_07', 'GMB_07', 'GMB_07', 'GMB_07', 'GMB_07', 'GMB_07', 'GMB_07', 'GMB_07', 'GMB_07', 'GMB_07', 'GMB_07', 'GMB_07', 'GMB_07', 'GMB_07', 'GMB_07', 'GMB_07', 'GMB_07', 'GMB_07', 'GMB_07', 'GMB_07', 'GMB_07', 'GMB_07', 'GMB_07', 'GMB_07', 'GMB_07', 'GMB_07', 'GMB_07', 'GMB_07', 'GMB_07', 'GMB_07', 'GMB_07', 'GMB_07', 'GMB_07', 'GMB_07', 'GMB_07', 'GMB_07', 'GMB_07', 'GMB_07', 'GMB_07', 'GMB_07', 'GMB_07', 'GMB_07', 'GMB_07', 'GMB_07', 'GMB_07', 'GMB_07', 'GMB_07', 'GMB_07', 'GMB_07', 'GMB_07', 'GMB_07', 'GMB_07', 'GMB_07', 'GMB_07', 'GMB_07', 'GMB_07', 'GMB_07', 'GMB_07', 'GMB_07', 'GMB_07', 'GMB_07', 'GMB_07', 'GMB_07', 'GMB_07', 'GMB_07', 'GMB_07', 'GMB_07', 'GMB_07', 'GMB_07', 'GMB_07', 'GMB_07', 'GMB_07', 'GMB_07', 'GMB_07', 'GMB_07', 'GMB_07', 'GMB_07', 'GMB_07', 'GMB_07', 'GMB_07', 'GMB_07', 'GMB_07', 'GMB_07', 'GMB_07', 'GMB_07', 'GMB_09', 'GMB_09', 'GMB_09', 'GMB_09', 'GMB_09', 'GMB_09', 'GMB_09', 'GMB_09', 'GMB_09', 'GMB_09', 'GMB_09', 'GMB_09', 'GMB_09', 'GMB_09', 'GMB_09', 'GMB_09', 'GMB_09', 'GMB_09', 'GMB_09', 'GMB_09', 'GMB_09', 'GMB_09', 'GMB_09', 'GMB_09', 'GMB_09', 'GMB_09', 'GMB_09', 'GMB_09', 'GMB_09', 'GMB_09', 'GMB_09', 'GMB_09', 'GMB_09', 'GMB_09', 'GMB_09', 'GMB_09', 'GMB_09', 'GMB_09', 'GMB_09', 'GMB_09', 'GMB_09', 'GMB_09', 'GMB_09', 'GMB_09', 'GMB_09', 'GMB_09', 'GMB_09', 'GMB_09', 'GMB_09', 'GMB_09', 'GMB_09', 'GMB_09', 'GMB_09', 'GMB_09', 'GMB_09', 'GMB_09', 'GMB_09', 'GMB_09', 'GMB_09', 'GMB_09', 'GMB_09', 'GMB_09', 'GMB_09', 'GMB_09', 'GMB_09', 'GMB_09', 'GMB_09', 'GMB_09', 'GMB_09', 'GMB_09', 'GMB_09', 'GMB_09', 'GMB_09', 'GMB_09', 'GMB_09', 'GMB_09', 'GMB_09', 'GMB_09', 'GMB_09', 'GMB_09', 'GMB_09', 'GMB_09', 'GMB_09', 'GMB_09', 'GMB_09', 'GMB_09', 'GMB_09', 'GMB_09', 'GMB_09', 'GMB_09', 'GMB_09', 'GMB_09', 'GMB_09', 'GMB_09', 'GMB_09', 'GMB_09', 'GMB_09', 'GMB_09', 'GMB_09', 'GMB_09', 'GMB_09', 'GMB_09', 'GMB_09', 'GMB_09', 'GMB_09', 'GMB_09', 'GMB_09', 'GMB_09', 'GMB_09', 'GMB_09', 'GMB_09', 'GMB_09', 'GMB_09', 'GMB_09', 'GMB_09', 'GMB_10', 'GMB_10', 'GMB_10', 'GMB_10', 'GMB_10', 'GMB_10', 'GMB_10', 'GMB_10', 'GMB_10', 'GMB_10', 'GMB_10', 'GMB_10', 'GMB_10', 'GMB_10', 'GMB_10', 'GMB_10', 'GMB_10', 'GMB_10', 'GMB_10', 'GMB_10', 'GMB_10', 'GMB_10', 'GMB_10', 'GMB_10', 'GMB_10', 'GMB_10', 'GMB_10', 'GMB_10', 'GMB_10', 'GMB_10', 'GMB_10', 'GMB_10', 'GMB_10', 'GMB_10', 'GMB_10', 'GMB_10', 'GMB_10', 'GMB_10', 'GMB_10', 'GMB_10', 'GMB_10', 'GMB_10', 'GMB_10', 'GMB_10', 'GMB_10', 'GMB_10', 'GMB_10', 'GMB_10', 'GMB_10', 'GMB_10', 'GMB_10', 'GMB_10', 'GMB_10', 'GMB_10', 'GMB_10', 'GMB_10', 'GMB_10', 'GMB_10', 'GMB_10', 'GMB_10', 'GMB_10', 'GMB_10', 'GMB_10', 'GMB_10', 'GMB_10', 'GMB_10', 'GMB_10', 'GMB_10', 'GMB_10', 'GMB_10', 'GMB_10', 'GMB_10', 'GMB_10', 'GMB_10', 'GMB_10', 'GMB_10', 'GMB_10', 'GMB_10', 'GMB_10', 'GMB_10', 'GMB_10', 'GMB_10', 'GMB_10', 'GMB_10', 'GMB_10', 'GMB_10', 'GMB_10', 'GMB_10', 'GMB_10', 'GMB_10', 'GMB_10', 'GMB_10', 'GMB_10', 'GMB_10', 'GMB_10', 'GMB_10', 'GMB_10', 'GMB_10', 'GMB_10', 'GMB_10', 'GMB_10', 'GMB_10', 'GMB_10', 'GMB_10', 'GMB_10', 'GMB_10', 'GMB_10', 'GMB_10', 'GMB_10', 'GMB_10', 'GMB_10', 'GMB_10', 'GMB_10', 'GMB_10', 'GMB_11', 'GMB_11', 'GMB_11', 'GMB_11', 'GMB_11', 'GMB_11', 'GMB_11', 'GMB_11', 'GMB_11', 'GMB_11', 'GMB_11', 'GMB_11', 'GMB_11', 'GMB_11', 'GMB_11', 'GMB_11', 'GMB_11', 'GMB_11', 'GMB_11', 'GMB_11', 'GMB_11', 'GMB_11', 'GMB_11', 'GMB_11', 'GMB_11', 'GMB_11', 'GMB_11', 'GMB_11', 'GMB_11', 'GMB_11', 'GMB_11', 'GMB_11', 'GMB_11', 'GMB_11', 'GMB_11', 'GMB_11', 'GMB_11', 'GMB_11', 'GMB_11', 'GMB_11', 'GMB_11', 'GMB_11', 'GMB_11', 'GMB_11', 'GMB_11', 'GMB_11', 'GMB_11', 'GMB_11', 'GMB_11', 'GMB_11', 'GMB_11', 'GMB_11', 'GMB_11', 'GMB_11', 'GMB_11', 'GMB_11', 'GMB_11', 'GMB_11', 'GMB_11', 'GMB_11', 'GMB_11', 'GMB_11', 'GMB_11', 'GMB_11', 'GMB_11', 'GMB_11', 'GMB_11', 'GMB_11', 'GMB_11', 'GMB_11', 'GMB_11', 'GMB_11', 'GMB_11', 'GMB_11', 'GMB_11', 'GMB_11', 'GMB_11', 'GMB_11', 'GMB_11', 'GMB_11', 'GMB_11', 'GMB_11', 'GMB_11', 'GMB_11', 'GMB_11', 'GMB_11', 'GMB_11', 'GMB_11', 'GMB_11', 'GMB_11', 'GMB_11', 'GMB_11', 'GMB_11', 'GMB_11', 'GMB_11', 'GMB_11', 'GMB_11', 'GMB_11', 'GMB_11', 'GMB_11', 'GMB_11', 'GMB_11', 'GMB_11', 'GMB_11', 'GMB_11', 'GMB_11', 'GMB_11', 'GMB_11', 'GMB_11', 'GMB_11', 'GMB_11', 'GMB_11', 'GMB_11', 'GMB_11', 'GMB_11', 'GMB_11', 'GMB_11', 'GMB_11', 'GMB_11', 'GMB_11', 'GMB_11', 'GMB_11', 'GMB_11', 'GMB_11', 'GMB_11', 'GMB_11', 'GMB_11', 'GMB_11', 'GMB_11']\n"
          ],
          "name": "stdout"
        }
      ]
    },
    {
      "cell_type": "code",
      "metadata": {
        "id": "twd1IeuKVGB5"
      },
      "source": [
        "# encode the labels, converting them from strings to integers\n",
        "lb = LabelBinarizer()\n",
        "labels = lb.fit_transform(labels)"
      ],
      "execution_count": 119,
      "outputs": []
    },
    {
      "cell_type": "code",
      "metadata": {
        "colab": {
          "base_uri": "https://localhost:8080/"
        },
        "id": "5FPCyIqcVGB7",
        "outputId": "4458bf3b-77c3-4e47-f29a-1e708b8280f5"
      },
      "source": [
        "print(labels)"
      ],
      "execution_count": 120,
      "outputs": [
        {
          "output_type": "stream",
          "text": [
            "[[0 1 0 0 0]\n",
            " [0 1 0 0 0]\n",
            " [0 1 0 0 0]\n",
            " ...\n",
            " [0 0 0 0 1]\n",
            " [0 0 0 0 1]\n",
            " [0 0 0 0 1]]\n"
          ],
          "name": "stdout"
        }
      ]
    },
    {
      "cell_type": "code",
      "metadata": {
        "colab": {
          "base_uri": "https://localhost:8080/"
        },
        "id": "ktZ5hNYwVGB9",
        "outputId": "9e34bf6b-19b1-4f64-cfc4-9aa09283f2c4"
      },
      "source": [
        "# perform a training and testing split, using 75% of the data for\n",
        "# training and 25% for evaluation\n",
        "(trainX, testX, trainY, testY) = train_test_split(np.array(data),\tnp.array(labels), test_size=0.25, shuffle=True)\n",
        "print(trainX.shape)\n",
        "print(testX.shape)"
      ],
      "execution_count": 121,
      "outputs": [
        {
          "output_type": "stream",
          "text": [
            "(447, 64, 64, 3)\n",
            "(149, 64, 64, 3)\n"
          ],
          "name": "stdout"
        }
      ]
    },
    {
      "cell_type": "code",
      "metadata": {
        "colab": {
          "base_uri": "https://localhost:8080/"
        },
        "id": "MSxR7GLQvrUP",
        "outputId": "13e45591-0831-4023-afe2-01d4c3d932ec"
      },
      "source": [
        "from keras.layers import Convolution2D, MaxPooling2D\n",
        "from keras.models import Sequential\n",
        "from keras.layers.core import Flatten, Dense\n",
        "\n",
        "model1 = Sequential()\n",
        "model1.add(Convolution2D(8, (3,3), activation='relu', input_shape=(64,64,3)))\n",
        "model1.add(MaxPooling2D(2,2))\n",
        "model1.add(Convolution2D(16, (3,3), activation='relu'))\n",
        "model1.add(MaxPooling2D(2,2))\n",
        "#fully connected layer\n",
        "model1.add(Flatten())\n",
        "model1.add(Dense(100, activation='relu'))\n",
        "model1.add(Dense(5, activation='softmax'))\n",
        "\n",
        "model1.summary()"
      ],
      "execution_count": 122,
      "outputs": [
        {
          "output_type": "stream",
          "text": [
            "Model: \"sequential_12\"\n",
            "_________________________________________________________________\n",
            "Layer (type)                 Output Shape              Param #   \n",
            "=================================================================\n",
            "conv2d_12 (Conv2D)           (None, 62, 62, 8)         224       \n",
            "_________________________________________________________________\n",
            "max_pooling2d_8 (MaxPooling2 (None, 31, 31, 8)         0         \n",
            "_________________________________________________________________\n",
            "conv2d_13 (Conv2D)           (None, 29, 29, 16)        1168      \n",
            "_________________________________________________________________\n",
            "max_pooling2d_9 (MaxPooling2 (None, 14, 14, 16)        0         \n",
            "_________________________________________________________________\n",
            "flatten_8 (Flatten)          (None, 3136)              0         \n",
            "_________________________________________________________________\n",
            "dense_8 (Dense)              (None, 100)               313700    \n",
            "_________________________________________________________________\n",
            "dense_9 (Dense)              (None, 5)                 505       \n",
            "=================================================================\n",
            "Total params: 315,597\n",
            "Trainable params: 315,597\n",
            "Non-trainable params: 0\n",
            "_________________________________________________________________\n"
          ],
          "name": "stdout"
        }
      ]
    },
    {
      "cell_type": "code",
      "metadata": {
        "id": "sny_9-wU8PGB"
      },
      "source": [
        "from keras.models import Sequential\n",
        "from keras.layers.core import Flatten\n",
        "from keras.layers.core import Dense\n",
        "\n",
        "model = Sequential(\n",
        "    [\n",
        "        Flatten(input_shape=(64*64*3,)),\n",
        "        Dense(100, activation=\"relu\", name=\"layer1\"),\n",
        "        Dense(16, activation=\"relu\", name=\"layer2\"),\n",
        "        Dense(16, activation=\"relu\", name=\"layer3\"),\n",
        "        Dense(5, activation = \"softmax\", name=\"layer4\"),\n",
        "    ]\n",
        ")"
      ],
      "execution_count": 123,
      "outputs": []
    },
    {
      "cell_type": "code",
      "metadata": {
        "colab": {
          "base_uri": "https://localhost:8080/"
        },
        "id": "L0TdWxuFPkT3",
        "outputId": "25b436e0-f11f-4b7a-906e-ab6022ac72b0"
      },
      "source": [
        "model.summary()"
      ],
      "execution_count": 124,
      "outputs": [
        {
          "output_type": "stream",
          "text": [
            "Model: \"sequential_13\"\n",
            "_________________________________________________________________\n",
            "Layer (type)                 Output Shape              Param #   \n",
            "=================================================================\n",
            "flatten_9 (Flatten)          (None, 12288)             0         \n",
            "_________________________________________________________________\n",
            "layer1 (Dense)               (None, 100)               1228900   \n",
            "_________________________________________________________________\n",
            "layer2 (Dense)               (None, 16)                1616      \n",
            "_________________________________________________________________\n",
            "layer3 (Dense)               (None, 16)                272       \n",
            "_________________________________________________________________\n",
            "layer4 (Dense)               (None, 5)                 85        \n",
            "=================================================================\n",
            "Total params: 1,230,873\n",
            "Trainable params: 1,230,873\n",
            "Non-trainable params: 0\n",
            "_________________________________________________________________\n"
          ],
          "name": "stdout"
        }
      ]
    },
    {
      "cell_type": "code",
      "metadata": {
        "colab": {
          "base_uri": "https://localhost:8080/"
        },
        "id": "ggcSdj_aVGCB",
        "scrolled": true,
        "outputId": "1ea788e6-1cdf-4f47-f22d-ec2ef8f61552"
      },
      "source": [
        "# train the model using the Adam optimizer\n",
        "print(\"[INFO] training network...\")\n",
        "opt = Adam(lr=1e-3, decay=1e-3 / 50)\n",
        "model1.compile(loss=\"categorical_crossentropy\", optimizer=opt, metrics=[\"accuracy\"])"
      ],
      "execution_count": 125,
      "outputs": [
        {
          "output_type": "stream",
          "text": [
            "[INFO] training network...\n"
          ],
          "name": "stdout"
        }
      ]
    },
    {
      "cell_type": "code",
      "metadata": {
        "colab": {
          "base_uri": "https://localhost:8080/"
        },
        "id": "3bbMakb0w-XZ",
        "outputId": "a4621c59-bc64-4771-87cd-9561469222e0"
      },
      "source": [
        "H = model1.fit(trainX, trainY, validation_data=(testX, testY), epochs=50, batch_size=32)"
      ],
      "execution_count": 126,
      "outputs": [
        {
          "output_type": "stream",
          "text": [
            "Epoch 1/50\n",
            "14/14 [==============================] - 1s 80ms/step - loss: 1.6132 - accuracy: 0.2841 - val_loss: 1.4852 - val_accuracy: 0.4295\n",
            "Epoch 2/50\n",
            "14/14 [==============================] - 1s 69ms/step - loss: 1.3516 - accuracy: 0.4810 - val_loss: 1.2925 - val_accuracy: 0.4631\n",
            "Epoch 3/50\n",
            "14/14 [==============================] - 1s 68ms/step - loss: 1.1428 - accuracy: 0.5078 - val_loss: 1.2475 - val_accuracy: 0.4765\n",
            "Epoch 4/50\n",
            "14/14 [==============================] - 1s 68ms/step - loss: 1.0083 - accuracy: 0.6018 - val_loss: 1.2083 - val_accuracy: 0.4899\n",
            "Epoch 5/50\n",
            "14/14 [==============================] - 1s 68ms/step - loss: 0.9405 - accuracy: 0.6734 - val_loss: 0.9789 - val_accuracy: 0.6644\n",
            "Epoch 6/50\n",
            "14/14 [==============================] - 1s 69ms/step - loss: 0.8016 - accuracy: 0.7248 - val_loss: 0.9051 - val_accuracy: 0.6577\n",
            "Epoch 7/50\n",
            "14/14 [==============================] - 1s 68ms/step - loss: 0.6970 - accuracy: 0.7360 - val_loss: 0.8601 - val_accuracy: 0.6846\n",
            "Epoch 8/50\n",
            "14/14 [==============================] - 1s 68ms/step - loss: 0.6094 - accuracy: 0.7919 - val_loss: 0.8049 - val_accuracy: 0.6510\n",
            "Epoch 9/50\n",
            "14/14 [==============================] - 1s 70ms/step - loss: 0.5511 - accuracy: 0.8143 - val_loss: 0.7710 - val_accuracy: 0.7114\n",
            "Epoch 10/50\n",
            "14/14 [==============================] - 1s 69ms/step - loss: 0.5424 - accuracy: 0.8054 - val_loss: 0.7330 - val_accuracy: 0.7248\n",
            "Epoch 11/50\n",
            "14/14 [==============================] - 1s 69ms/step - loss: 0.4810 - accuracy: 0.8434 - val_loss: 0.7381 - val_accuracy: 0.7383\n",
            "Epoch 12/50\n",
            "14/14 [==============================] - 1s 69ms/step - loss: 0.4404 - accuracy: 0.8479 - val_loss: 0.7601 - val_accuracy: 0.7248\n",
            "Epoch 13/50\n",
            "14/14 [==============================] - 1s 68ms/step - loss: 0.4200 - accuracy: 0.8568 - val_loss: 0.6931 - val_accuracy: 0.7450\n",
            "Epoch 14/50\n",
            "14/14 [==============================] - 1s 68ms/step - loss: 0.3720 - accuracy: 0.8814 - val_loss: 0.7113 - val_accuracy: 0.7450\n",
            "Epoch 15/50\n",
            "14/14 [==============================] - 1s 68ms/step - loss: 0.3355 - accuracy: 0.8837 - val_loss: 0.7518 - val_accuracy: 0.7718\n",
            "Epoch 16/50\n",
            "14/14 [==============================] - 1s 68ms/step - loss: 0.3254 - accuracy: 0.8792 - val_loss: 0.7120 - val_accuracy: 0.7987\n",
            "Epoch 17/50\n",
            "14/14 [==============================] - 1s 68ms/step - loss: 0.3701 - accuracy: 0.8658 - val_loss: 0.8422 - val_accuracy: 0.7517\n",
            "Epoch 18/50\n",
            "14/14 [==============================] - 1s 69ms/step - loss: 0.2987 - accuracy: 0.8993 - val_loss: 0.7151 - val_accuracy: 0.7987\n",
            "Epoch 19/50\n",
            "14/14 [==============================] - 1s 68ms/step - loss: 0.2822 - accuracy: 0.8993 - val_loss: 0.6663 - val_accuracy: 0.7852\n",
            "Epoch 20/50\n",
            "14/14 [==============================] - 1s 70ms/step - loss: 0.2531 - accuracy: 0.9128 - val_loss: 0.6397 - val_accuracy: 0.8121\n",
            "Epoch 21/50\n",
            "14/14 [==============================] - 1s 68ms/step - loss: 0.2204 - accuracy: 0.9262 - val_loss: 0.6163 - val_accuracy: 0.8188\n",
            "Epoch 22/50\n",
            "14/14 [==============================] - 1s 70ms/step - loss: 0.1844 - accuracy: 0.9508 - val_loss: 0.6934 - val_accuracy: 0.7987\n",
            "Epoch 23/50\n",
            "14/14 [==============================] - 1s 69ms/step - loss: 0.1662 - accuracy: 0.9620 - val_loss: 0.6803 - val_accuracy: 0.8054\n",
            "Epoch 24/50\n",
            "14/14 [==============================] - 1s 69ms/step - loss: 0.1606 - accuracy: 0.9553 - val_loss: 0.6830 - val_accuracy: 0.8121\n",
            "Epoch 25/50\n",
            "14/14 [==============================] - 1s 69ms/step - loss: 0.1480 - accuracy: 0.9597 - val_loss: 0.6448 - val_accuracy: 0.8322\n",
            "Epoch 26/50\n",
            "14/14 [==============================] - 1s 68ms/step - loss: 0.1412 - accuracy: 0.9620 - val_loss: 0.7437 - val_accuracy: 0.8121\n",
            "Epoch 27/50\n",
            "14/14 [==============================] - 1s 70ms/step - loss: 0.1302 - accuracy: 0.9732 - val_loss: 0.6334 - val_accuracy: 0.8054\n",
            "Epoch 28/50\n",
            "14/14 [==============================] - 1s 69ms/step - loss: 0.1357 - accuracy: 0.9664 - val_loss: 0.7457 - val_accuracy: 0.8121\n",
            "Epoch 29/50\n",
            "14/14 [==============================] - 1s 68ms/step - loss: 0.1061 - accuracy: 0.9754 - val_loss: 0.6289 - val_accuracy: 0.8322\n",
            "Epoch 30/50\n",
            "14/14 [==============================] - 1s 70ms/step - loss: 0.0920 - accuracy: 0.9799 - val_loss: 0.7987 - val_accuracy: 0.8121\n",
            "Epoch 31/50\n",
            "14/14 [==============================] - 1s 70ms/step - loss: 0.1051 - accuracy: 0.9799 - val_loss: 0.7676 - val_accuracy: 0.8054\n",
            "Epoch 32/50\n",
            "14/14 [==============================] - 1s 69ms/step - loss: 0.0797 - accuracy: 0.9866 - val_loss: 0.6911 - val_accuracy: 0.8121\n",
            "Epoch 33/50\n",
            "14/14 [==============================] - 1s 69ms/step - loss: 0.1066 - accuracy: 0.9664 - val_loss: 0.7226 - val_accuracy: 0.8255\n",
            "Epoch 34/50\n",
            "14/14 [==============================] - 1s 69ms/step - loss: 0.0865 - accuracy: 0.9799 - val_loss: 0.7195 - val_accuracy: 0.8523\n",
            "Epoch 35/50\n",
            "14/14 [==============================] - 1s 69ms/step - loss: 0.0671 - accuracy: 0.9843 - val_loss: 0.7224 - val_accuracy: 0.8188\n",
            "Epoch 36/50\n",
            "14/14 [==============================] - 1s 69ms/step - loss: 0.0639 - accuracy: 0.9911 - val_loss: 0.7917 - val_accuracy: 0.8322\n",
            "Epoch 37/50\n",
            "14/14 [==============================] - 1s 68ms/step - loss: 0.0603 - accuracy: 0.9911 - val_loss: 0.7918 - val_accuracy: 0.8322\n",
            "Epoch 38/50\n",
            "14/14 [==============================] - 1s 69ms/step - loss: 0.0415 - accuracy: 0.9955 - val_loss: 0.7774 - val_accuracy: 0.8188\n",
            "Epoch 39/50\n",
            "14/14 [==============================] - 1s 69ms/step - loss: 0.0381 - accuracy: 0.9978 - val_loss: 0.8108 - val_accuracy: 0.8188\n",
            "Epoch 40/50\n",
            "14/14 [==============================] - 1s 68ms/step - loss: 0.0623 - accuracy: 0.9821 - val_loss: 0.7035 - val_accuracy: 0.8322\n",
            "Epoch 41/50\n",
            "14/14 [==============================] - 1s 70ms/step - loss: 0.0537 - accuracy: 0.9955 - val_loss: 0.7707 - val_accuracy: 0.8121\n",
            "Epoch 42/50\n",
            "14/14 [==============================] - 1s 69ms/step - loss: 0.0440 - accuracy: 0.9933 - val_loss: 0.7301 - val_accuracy: 0.8389\n",
            "Epoch 43/50\n",
            "14/14 [==============================] - 1s 69ms/step - loss: 0.0334 - accuracy: 0.9978 - val_loss: 0.8306 - val_accuracy: 0.8255\n",
            "Epoch 44/50\n",
            "14/14 [==============================] - 1s 69ms/step - loss: 0.0327 - accuracy: 0.9955 - val_loss: 0.9545 - val_accuracy: 0.8255\n",
            "Epoch 45/50\n",
            "14/14 [==============================] - 1s 69ms/step - loss: 0.0329 - accuracy: 0.9978 - val_loss: 1.0289 - val_accuracy: 0.8054\n",
            "Epoch 46/50\n",
            "14/14 [==============================] - 1s 68ms/step - loss: 0.0435 - accuracy: 0.9911 - val_loss: 0.9587 - val_accuracy: 0.8054\n",
            "Epoch 47/50\n",
            "14/14 [==============================] - 1s 69ms/step - loss: 0.0506 - accuracy: 0.9866 - val_loss: 0.7667 - val_accuracy: 0.8322\n",
            "Epoch 48/50\n",
            "14/14 [==============================] - 1s 68ms/step - loss: 0.0318 - accuracy: 0.9978 - val_loss: 0.7721 - val_accuracy: 0.8389\n",
            "Epoch 49/50\n",
            "14/14 [==============================] - 1s 69ms/step - loss: 0.0230 - accuracy: 0.9978 - val_loss: 0.8124 - val_accuracy: 0.8255\n",
            "Epoch 50/50\n",
            "14/14 [==============================] - 1s 68ms/step - loss: 0.0265 - accuracy: 0.9978 - val_loss: 0.8071 - val_accuracy: 0.8322\n"
          ],
          "name": "stdout"
        }
      ]
    },
    {
      "cell_type": "code",
      "metadata": {
        "colab": {
          "base_uri": "https://localhost:8080/",
          "height": 590
        },
        "id": "98_oXi-lcgux",
        "outputId": "a884bb00-424b-4212-8691-1ea47adc0fb0"
      },
      "source": [
        "import matplotlib.pyplot as plt\n",
        "\n",
        "print(H.history.keys())\n",
        "# summarize history for accuracy\n",
        "plt.plot(H.history['accuracy'])\n",
        "plt.plot(H.history['val_accuracy'])\n",
        "plt.title('model accuracy')\n",
        "plt.ylabel('accuracy')\n",
        "plt.xlabel('epoch')\n",
        "plt.legend(['train', 'test'], loc='upper left')\n",
        "plt.show()\n",
        "# summarize history for loss\n",
        "plt.plot(H.history['loss'])\n",
        "plt.plot(H.history['val_loss'])\n",
        "plt.title('model loss')\n",
        "plt.ylabel('loss')\n",
        "plt.xlabel('epoch')\n",
        "plt.legend(['train', 'test'], loc='upper left')\n",
        "plt.show()"
      ],
      "execution_count": 127,
      "outputs": [
        {
          "output_type": "stream",
          "text": [
            "dict_keys(['loss', 'accuracy', 'val_loss', 'val_accuracy'])\n"
          ],
          "name": "stdout"
        },
        {
          "output_type": "display_data",
          "data": {
            "image/png": "[encoded data removed]",
            "text/plain": [
              "<Figure size 432x288 with 1 Axes>"
            ]
          },
          "metadata": {
            "tags": [],
            "needs_background": "light"
          }
        },
        {
          "output_type": "display_data",
          "data": {
            "image/png": "[encoded data removed]",
            "text/plain": [
              "<Figure size 432x288 with 1 Axes>"
            ]
          },
          "metadata": {
            "tags": [],
            "needs_background": "light"
          }
        }
      ]
    },
    {
      "cell_type": "code",
      "metadata": {
        "colab": {
          "base_uri": "https://localhost:8080/"
        },
        "id": "lPAZkmBJVGCD",
        "outputId": "91e28996-eea6-49d5-ebc5-61ede0e00bd7"
      },
      "source": [
        "# evaluate the network\n",
        "print(\"[INFO] evaluating network...\")\n",
        "predictions = model1.predict(testX, batch_size=32)\n",
        "print(classification_report(testY.argmax(axis=1),\n",
        "\tpredictions.argmax(axis=1), target_names=lb.classes_))"
      ],
      "execution_count": 128,
      "outputs": [
        {
          "output_type": "stream",
          "text": [
            "[INFO] evaluating network...\n",
            "              precision    recall  f1-score   support\n",
            "\n",
            "      GMB_07       0.69      0.67      0.68        27\n",
            "      GMB_08       0.92      0.92      0.92        26\n",
            "      GMB_09       0.91      0.97      0.94        32\n",
            "      GMB_10       0.96      0.74      0.83        34\n",
            "      GMB_11       0.70      0.87      0.78        30\n",
            "\n",
            "    accuracy                           0.83       149\n",
            "   macro avg       0.84      0.83      0.83       149\n",
            "weighted avg       0.84      0.83      0.83       149\n",
            "\n"
          ],
          "name": "stdout"
        }
      ]
    },
    {
      "cell_type": "code",
      "metadata": {
        "colab": {
          "base_uri": "https://localhost:8080/"
        },
        "id": "4uBcj8x8iwTw",
        "outputId": "48ab00bf-5da6-431c-824f-9ad66fdc5ab0"
      },
      "source": [
        "model.save('nnmodel_scene')"
      ],
      "execution_count": 129,
      "outputs": [
        {
          "output_type": "stream",
          "text": [
            "INFO:tensorflow:Assets written to: nnmodel_scene/assets\n"
          ],
          "name": "stdout"
        }
      ]
    },
    {
      "cell_type": "code",
      "metadata": {
        "id": "AOwJT2jLVGCN"
      },
      "source": [
        "import cv2\n",
        "import matplotlib.pyplot as plt\n",
        "image1='daun.jpg'"
      ],
      "execution_count": 132,
      "outputs": []
    },
    {
      "cell_type": "code",
      "metadata": {
        "colab": {
          "base_uri": "https://localhost:8080/",
          "height": 269
        },
        "id": "PkM68K4GVGCP",
        "outputId": "232eec46-8f2b-4105-e2ab-e1c409efdb44"
      },
      "source": [
        "img_array = cv2.imread(image1)\n",
        "plt.imshow(img_array)\n",
        "plt.show()\n",
        "# print(type(img_array))"
      ],
      "execution_count": 133,
      "outputs": [
        {
          "output_type": "display_data",
          "data": {
            "image/png": "[encoded data removed]",
            "text/plain": [
              "<Figure size 432x288 with 1 Axes>"
            ]
          },
          "metadata": {
            "tags": [],
            "needs_background": "light"
          }
        }
      ]
    },
    {
      "cell_type": "code",
      "metadata": {
        "id": "1ZkNY8LWVGCR"
      },
      "source": [
        "image_testing = Image.open('forest_test.jpg')\n",
        "image_testing = np.array(image_testing.resize((64, 64))) / 255.0\n",
        "image_testing.shape"
      ],
      "execution_count": null,
      "outputs": []
    },
    {
      "cell_type": "code",
      "metadata": {
        "id": "qL66nfOcVGCT"
      },
      "source": [
        "image_testing = np.expand_dims(image_testing, axis=0)\n",
        "print(image_testing.shape)"
      ],
      "execution_count": null,
      "outputs": []
    },
    {
      "cell_type": "code",
      "metadata": {
        "id": "vTy9yP1AVGCV"
      },
      "source": [
        "output = model.predict(image_testing, 1)\n",
        "print(output)\n",
        "print(lb.classes_[output.argmax(axis=1)])"
      ],
      "execution_count": null,
      "outputs": []
    },
    {
      "cell_type": "code",
      "metadata": {
        "id": "cu5SSxXyiOs3"
      },
      "source": [
        ""
      ],
      "execution_count": null,
      "outputs": []
    }
  ]
}